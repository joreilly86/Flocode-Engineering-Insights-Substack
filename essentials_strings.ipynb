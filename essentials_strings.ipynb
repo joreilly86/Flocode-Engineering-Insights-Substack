{
  "nbformat": 4,
  "nbformat_minor": 0,
  "metadata": {
    "colab": {
      "provenance": [],
      "authorship_tag": "ABX9TyN3CsRop83g5eq8xoXVJTUd",
      "include_colab_link": true
    },
    "kernelspec": {
      "name": "python3",
      "display_name": "Python 3"
    },
    "language_info": {
      "name": "python"
    }
  },
  "cells": [
    {
      "cell_type": "markdown",
      "metadata": {
        "id": "view-in-github",
        "colab_type": "text"
      },
      "source": [
        "<a href=\"https://colab.research.google.com/github/joreilly86/Flocode-Engineering-Insights-Substack/blob/main/essentials_strings.ipynb\" target=\"_parent\"><img src=\"https://colab.research.google.com/assets/colab-badge.svg\" alt=\"Open In Colab\"/></a>"
      ]
    },
    {
      "cell_type": "markdown",
      "source": [
        "# Strings"
      ],
      "metadata": {
        "id": "DNnNIBwhRjJr"
      }
    },
    {
      "cell_type": "code",
      "execution_count": null,
      "metadata": {
        "colab": {
          "base_uri": "https://localhost:8080/"
        },
        "id": "cfM7YVj1RiF-",
        "outputId": "1ecc20c8-ae3b-4c76-8573-c13d8891d63b"
      },
      "outputs": [
        {
          "output_type": "stream",
          "name": "stdout",
          "text": [
            "Beam Calculation Report\n",
            "\n",
            "Beam Name: B1\n",
            "Dimensions:\n",
            "  Length:    5.0 m\n",
            "  Width:     0.3 m\n",
            "  Height:    0.4 m\n",
            "Material: Concrete\n",
            "\n"
          ]
        }
      ],
      "source": [
        "def generate_beam_report(beam_name, length, width, height, material):\n",
        "    report = f\"Beam Calculation Report\\n\\n\"\n",
        "    report += f\"Beam Name: {beam_name}\\n\"\n",
        "    report += f\"Dimensions:\\n\"\n",
        "    report += f\"  Length: {length:>6.1f} m\\n\"  # Right-align (>), width 6, 1 decimal place (.1), float (f)\n",
        "    report += f\"  Width:  {width:>6.1f} m\\n\"   # Same formatting to ensure alignment\n",
        "    report += f\"  Height: {height:>6.1f} m\\n\"  # Same formatting to ensure alignment\n",
        "    report += f\"Material: {material}\\n\"\n",
        "    return report\n",
        "\n",
        "# Usage\n",
        "beam_report = generate_beam_report(\"B1\", 5.0, 0.3, 0.4, \"Concrete\")\n",
        "print(beam_report)"
      ]
    },
    {
      "cell_type": "code",
      "source": [
        "def calculate_beam_deflection(length, load, modulus, moment_of_inertia):\n",
        "    \"\"\"\n",
        "    Calculate the maximum deflection of a simply supported beam.\n",
        "\n",
        "    Parameters:\n",
        "    - length (float): The length of the beam in meters.\n",
        "    - load (float): The uniformly distributed load on the beam in N/m.\n",
        "    - modulus (float): The modulus of elasticity of the beam material in Pa.\n",
        "    - moment_of_inertia (float): The moment of inertia of the beam cross-section in m^4.\n",
        "\n",
        "    Returns:\n",
        "    - deflection (float): The maximum deflection of the beam in meters.\n",
        "    \"\"\"\n",
        "    deflection = (5 * load * length**4) / (384 * modulus * moment_of_inertia)\n",
        "    return deflection\n",
        "\n",
        "# Usage\n",
        "beam_length = 5.0\n",
        "beam_load = 10000\n",
        "beam_modulus = 2e11\n",
        "beam_moi = 1e-4\n",
        "\n",
        "max_deflection = calculate_beam_deflection(beam_length, beam_load, beam_modulus, beam_moi)\n",
        "print(f\"Maximum deflection: {max_deflection:.5f} m\")"
      ],
      "metadata": {
        "colab": {
          "base_uri": "https://localhost:8080/"
        },
        "id": "SKs-8ruwTfWw",
        "outputId": "b1ef0eb2-0e04-48bc-a819-24308fdfd172"
      },
      "execution_count": null,
      "outputs": [
        {
          "output_type": "stream",
          "name": "stdout",
          "text": [
            "Maximum deflection: 0.00407 m\n"
          ]
        }
      ]
    },
    {
      "cell_type": "code",
      "source": [
        "import pandas as pd\n",
        "import numpy as np\n",
        "\n",
        "def clean_dataset(df):\n",
        "    # Remove leading/trailing whitespace from column names\n",
        "    df.columns = [col.strip() for col in df.columns]\n",
        "\n",
        "    # Convert 'Height' column to numeric type\n",
        "    df['Height'] = pd.to_numeric(df['Height'], errors='coerce')\n",
        "\n",
        "    # Format 'Material' column to capitalize the first letter\n",
        "    df['Material'] = df['Material'].str.capitalize()\n",
        "\n",
        "    # Remove rows with missing values\n",
        "    df.dropna(inplace=True)\n",
        "\n",
        "    return df\n",
        "\n",
        "# Create synthetic data\n",
        "data = {\n",
        "    'Bridge Name': ['Golden Gate ', ' Brooklyn', ' London', ' Sydney Harbor', 'Forth '],\n",
        "    'Span': [1280, 1595, 283, 503, 521],\n",
        "    'Width': [27, 26, 32, 49, 37],\n",
        "    'Height': ['227', '84', '13', '134', '110'],\n",
        "    'Material': ['Steel', 'steel', 'concrete', 'STEEL', 'steel']\n",
        "}\n",
        "\n",
        "# Convert to DataFrame\n",
        "df = pd.DataFrame(data)\n",
        "\n",
        "# Clean the dataset\n",
        "cleaned_data = clean_dataset(df)\n",
        "\n",
        "# Print the cleaned data\n",
        "print(cleaned_data)"
      ],
      "metadata": {
        "colab": {
          "base_uri": "https://localhost:8080/"
        },
        "id": "3smjRkk7U2zZ",
        "outputId": "74f1fcbd-19d0-434a-b5a3-7d8aecd05a24"
      },
      "execution_count": null,
      "outputs": [
        {
          "output_type": "stream",
          "name": "stdout",
          "text": [
            "      Bridge Name  Span  Width  Height  Material\n",
            "0    Golden Gate   1280     27     227     Steel\n",
            "1        Brooklyn  1595     26      84     Steel\n",
            "2          London   283     32      13  Concrete\n",
            "3   Sydney Harbor   503     49     134     Steel\n",
            "4          Forth    521     37     110     Steel\n"
          ]
        }
      ]
    },
    {
      "cell_type": "code",
      "source": [
        "def generate_structural_report(project_name, num_floors, floor_height, beam_spacing, column_spacing):\n",
        "    report = f\"Structural Analysis Report\\n\\n\"\n",
        "    report += f\"Project: {project_name}\\n\\n\"\n",
        "\n",
        "    report += \"Building Specifications:\\n\"\n",
        "    report += f\"  Number of Floors: {num_floors}\\n\"\n",
        "    report += f\"  Floor Height: {floor_height} m\\n\"\n",
        "    report += f\"  Beam Spacing: {beam_spacing} m\\n\"\n",
        "    report += f\"  Column Spacing: {column_spacing} m\\n\\n\"\n",
        "\n",
        "    total_height = num_floors * floor_height\n",
        "    report += f\"Total Building Height: {total_height} m\\n\\n\"\n",
        "\n",
        "    report += \"Structural Analysis Results:\\n\"\n",
        "    # Perform structural analysis calculations here\n",
        "    # Append the results to the report\n",
        "\n",
        "    return report\n",
        "\n",
        "# Usage\n",
        "project_name = \"ABC Tower\"\n",
        "num_floors = 10\n",
        "floor_height = 3.5\n",
        "beam_spacing = 5\n",
        "column_spacing = 6\n",
        "\n",
        "structural_report = generate_structural_report(project_name, num_floors, floor_height, beam_spacing, column_spacing)\n",
        "print(structural_report)"
      ],
      "metadata": {
        "colab": {
          "base_uri": "https://localhost:8080/"
        },
        "id": "zotUgeLfW6S0",
        "outputId": "31d30f93-4e06-418d-fe55-e2d99ab1e995"
      },
      "execution_count": null,
      "outputs": [
        {
          "output_type": "stream",
          "name": "stdout",
          "text": [
            "Structural Analysis Report\n",
            "\n",
            "Project: ABC Tower\n",
            "\n",
            "Building Specifications:\n",
            "  Number of Floors: 10\n",
            "  Floor Height: 3.5 m\n",
            "  Beam Spacing: 5 m\n",
            "  Column Spacing: 6 m\n",
            "\n",
            "Total Building Height: 35.0 m\n",
            "\n",
            "Structural Analysis Results:\n",
            "\n"
          ]
        }
      ]
    },
    {
      "cell_type": "code",
      "source": [
        "pip install fpdf pandas matplotlib"
      ],
      "metadata": {
        "colab": {
          "base_uri": "https://localhost:8080/"
        },
        "id": "RsG9AWZdYkoa",
        "outputId": "ea5228b5-9fb8-473e-f1dc-d2fa16cf9cea"
      },
      "execution_count": null,
      "outputs": [
        {
          "output_type": "stream",
          "name": "stdout",
          "text": [
            "Requirement already satisfied: fpdf in /usr/local/lib/python3.10/dist-packages (1.7.2)\n",
            "Requirement already satisfied: pandas in /usr/local/lib/python3.10/dist-packages (2.0.3)\n",
            "Requirement already satisfied: matplotlib in /usr/local/lib/python3.10/dist-packages (3.7.1)\n",
            "Requirement already satisfied: python-dateutil>=2.8.2 in /usr/local/lib/python3.10/dist-packages (from pandas) (2.8.2)\n",
            "Requirement already satisfied: pytz>=2020.1 in /usr/local/lib/python3.10/dist-packages (from pandas) (2023.4)\n",
            "Requirement already satisfied: tzdata>=2022.1 in /usr/local/lib/python3.10/dist-packages (from pandas) (2024.1)\n",
            "Requirement already satisfied: numpy>=1.21.0 in /usr/local/lib/python3.10/dist-packages (from pandas) (1.25.2)\n",
            "Requirement already satisfied: contourpy>=1.0.1 in /usr/local/lib/python3.10/dist-packages (from matplotlib) (1.2.1)\n",
            "Requirement already satisfied: cycler>=0.10 in /usr/local/lib/python3.10/dist-packages (from matplotlib) (0.12.1)\n",
            "Requirement already satisfied: fonttools>=4.22.0 in /usr/local/lib/python3.10/dist-packages (from matplotlib) (4.53.1)\n",
            "Requirement already satisfied: kiwisolver>=1.0.1 in /usr/local/lib/python3.10/dist-packages (from matplotlib) (1.4.5)\n",
            "Requirement already satisfied: packaging>=20.0 in /usr/local/lib/python3.10/dist-packages (from matplotlib) (24.1)\n",
            "Requirement already satisfied: pillow>=6.2.0 in /usr/local/lib/python3.10/dist-packages (from matplotlib) (9.4.0)\n",
            "Requirement already satisfied: pyparsing>=2.3.1 in /usr/local/lib/python3.10/dist-packages (from matplotlib) (3.1.2)\n",
            "Requirement already satisfied: six>=1.5 in /usr/local/lib/python3.10/dist-packages (from python-dateutil>=2.8.2->pandas) (1.16.0)\n"
          ]
        }
      ]
    },
    {
      "cell_type": "code",
      "source": [
        "import pandas as pd\n",
        "\n",
        "# Create synthetic data\n",
        "data = {\n",
        "    'Bridge Name': ['Golden Gate', 'Brooklyn', 'London', 'Sydney Harbor', 'Forth'],\n",
        "    'Span': [1280, 1595, 283, 503, 521],\n",
        "    'Width': [27, 26, 32, 49, 37],\n",
        "    'Height': [227, 84, 13, 134, 110],\n",
        "    'Material': ['Steel', 'Steel', 'Concrete', 'Steel', 'Steel']\n",
        "}\n",
        "\n",
        "# Convert to DataFrame\n",
        "df = pd.DataFrame(data)\n"
      ],
      "metadata": {
        "id": "MqTM-FZ5YoaC"
      },
      "execution_count": null,
      "outputs": []
    },
    {
      "cell_type": "code",
      "source": [
        "import matplotlib.pyplot as plt\n",
        "\n",
        "# Generate line chart\n",
        "plt.figure()\n",
        "plt.plot(df['Bridge Name'], df['Span'], marker='o')\n",
        "plt.title('Bridge Span Lengths')\n",
        "plt.xlabel('Bridge Name')\n",
        "plt.ylabel('Span (m)')\n",
        "plt.savefig('span_chart.png')\n",
        "\n",
        "# Generate pie chart\n",
        "plt.figure()\n",
        "df['Material'].value_counts().plot.pie(autopct='%1.1f%%')\n",
        "plt.title('Bridge Materials Distribution')\n",
        "plt.ylabel('')\n",
        "plt.savefig('material_pie_chart.png')"
      ],
      "metadata": {
        "colab": {
          "base_uri": "https://localhost:8080/",
          "height": 883
        },
        "id": "RqJy4E3YYp6w",
        "outputId": "bfc9759e-1adf-49c2-8f3a-752ab39e4e5d"
      },
      "execution_count": null,
      "outputs": [
        {
          "output_type": "display_data",
          "data": {
            "text/plain": [
              "<Figure size 640x480 with 1 Axes>"
            ],
            "image/png": "[encoded data removed]"
          },
          "metadata": {}
        },
        {
          "output_type": "display_data",
          "data": {
            "text/plain": [
              "<Figure size 640x480 with 1 Axes>"
            ],
            "image/png": "[encoded data removed]"
          },
          "metadata": {}
        }
      ]
    },
    {
      "cell_type": "code",
      "source": [
        "from fpdf import FPDF\n",
        "\n",
        "class PDF(FPDF):\n",
        "    def header(self):\n",
        "        self.set_font('Arial', 'B', 12)\n",
        "        self.cell(0, 10, 'Structural Analysis Report', 0, 1, 'C')\n",
        "        self.ln(10)\n",
        "\n",
        "    def footer(self):\n",
        "        self.set_y(-15)\n",
        "        self.set_font('Arial', 'I', 8)\n",
        "        self.cell(0, 10, f'Page {self.page_no()} - flocode', 0, 0, 'C')\n",
        "\n",
        "    def chapter_title(self, title):\n",
        "        self.set_font('Arial', 'B', 12)\n",
        "        self.cell(0, 10, title, 0, 1, 'L')\n",
        "        self.ln(5)\n",
        "\n",
        "    def chapter_body(self, body):\n",
        "        self.set_font('Arial', '', 12)\n",
        "        self.multi_cell(0, 10, body)\n",
        "        self.ln()\n",
        "\n",
        "    def add_image(self, image_path, x, y, w, h):\n",
        "        self.image(image_path, x, y, w, h)\n",
        "        self.ln(h + 5)"
      ],
      "metadata": {
        "id": "U-Ix12KiYsID"
      },
      "execution_count": null,
      "outputs": []
    },
    {
      "cell_type": "code",
      "source": [
        "def generate_structural_report(project_name, num_floors, floor_height, beam_spacing, column_spacing):\n",
        "    pdf = PDF()\n",
        "    pdf.add_page()\n",
        "\n",
        "    # Title\n",
        "    pdf.chapter_title('Project Details')\n",
        "    project_details = f\"Project: {project_name}\\n\\n\"\n",
        "    pdf.chapter_body(project_details)\n",
        "\n",
        "    # Building Specifications\n",
        "    pdf.chapter_title('Building Specifications')\n",
        "    specs = (\n",
        "        f\"Number of Floors: {num_floors}\\n\"\n",
        "        f\"Floor Height: {floor_height} m\\n\"\n",
        "        f\"Beam Spacing: {beam_spacing} m\\n\"\n",
        "        f\"Column Spacing: {column_spacing} m\\n\"\n",
        "    )\n",
        "    total_height = num_floors * floor_height\n",
        "    specs += f\"\\nTotal Building Height: {total_height} m\\n\"\n",
        "    pdf.chapter_body(specs)\n",
        "\n",
        "    # Add visualizations\n",
        "    pdf.chapter_title('Visualizations')\n",
        "    pdf.add_image('span_chart.png', 10, pdf.get_y(), 100, 60)\n",
        "    pdf.add_image('material_pie_chart.png', 10, pdf.get_y(), 100, 60)\n",
        "\n",
        "    # Structural Analysis Results\n",
        "    pdf.chapter_title('Structural Analysis Results')\n",
        "    analysis_results = \"Placeholder for structural analysis results. You can add your own stuff here...\\n\"\n",
        "    pdf.chapter_body(analysis_results)\n",
        "\n",
        "    # Save the PDF to a file\n",
        "    pdf.output('structural_analysis_report.pdf')\n",
        "\n",
        "# Usage\n",
        "project_name = \"Flocode Example Tower\"\n",
        "num_floors = 10\n",
        "floor_height = 3.5\n",
        "beam_spacing = 5\n",
        "column_spacing = 6\n",
        "\n",
        "generate_structural_report(project_name, num_floors, floor_height, beam_spacing, column_spacing)"
      ],
      "metadata": {
        "id": "1Fxs2TNzYuHy"
      },
      "execution_count": null,
      "outputs": []
    }
  ]
}